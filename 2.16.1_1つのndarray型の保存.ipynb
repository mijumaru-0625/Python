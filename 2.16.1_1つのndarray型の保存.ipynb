{
 "cells": [
  {
   "cell_type": "code",
   "execution_count": 1,
   "id": "af65ba2a-74b2-46b9-94f0-4284764a2f2b",
   "metadata": {},
   "outputs": [
    {
     "name": "stdout",
     "output_type": "stream",
     "text": [
      "[ 1  1  2  3  5  8 13]\n",
      "[]\n",
      "[ 1  1  2  3  5  8 13]\n"
     ]
    }
   ],
   "source": [
    "import numpy as np\n",
    "\n",
    "data = np.array([1, 1, 2, 3, 5, 8, 13])\n",
    "print(data)\n",
    "\n",
    "np.save(\"datafile.npy\", data) # ファイルの保存\n",
    "data = np.array([])           # データの消去\n",
    "print(data)\n",
    "\n",
    "data = np.load(\"datafile.npy\") # ファイルの読み出し\n",
    "print(data)"
   ]
  },
  {
   "cell_type": "code",
   "execution_count": 2,
   "id": "082142c1-d160-486c-bc83-42c57f5ca902",
   "metadata": {},
   "outputs": [],
   "source": [
    "# 2.16.2 複数のndarray型の保存"
   ]
  },
  {
   "cell_type": "code",
   "execution_count": 3,
   "id": "83c2519f-c4c7-469f-89f0-f48ed6033206",
   "metadata": {},
   "outputs": [
    {
     "name": "stdout",
     "output_type": "stream",
     "text": [
      "['x0', 'x1']\n",
      "[1 2 3]\n",
      "[10 20 30]\n"
     ]
    }
   ],
   "source": [
    "x0 = np.array([1, 2, 3])\n",
    "x1 = np.array([10, 20, 30])\n",
    "np.savez(\"datafile2.npz\", x0=x0, x1=x1) # ファイルの保存\n",
    "x0 = np.array([])                       # x0 の消去\n",
    "x1 = np.array([])                       # x1 の消去\n",
    "data = np.load(\"datafile2.npz\")         # ファイル読み出し\n",
    "print(data.files)                       # 格納している全変数名の表示\n",
    "x0 = data[\"x0\"]                         # x0 の取り出し\n",
    "x1 = data[\"x1\"]                         # x1 の取り出し\n",
    "print(x0)\n",
    "print(x1)"
   ]
  },
  {
   "cell_type": "code",
   "execution_count": null,
   "id": "90b23e62-982b-4bed-9650-91698ad54559",
   "metadata": {},
   "outputs": [],
   "source": []
  }
 ],
 "metadata": {
  "kernelspec": {
   "display_name": "Python 3 (ipykernel)",
   "language": "python",
   "name": "python3"
  },
  "language_info": {
   "codemirror_mode": {
    "name": "ipython",
    "version": 3
   },
   "file_extension": ".py",
   "mimetype": "text/x-python",
   "name": "python",
   "nbconvert_exporter": "python",
   "pygments_lexer": "ipython3",
   "version": "3.11.3"
  }
 },
 "nbformat": 4,
 "nbformat_minor": 5
}
