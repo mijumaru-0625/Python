{
 "cells": [
  {
   "cell_type": "code",
   "execution_count": 7,
   "id": "bb6bdfcb-f099-43e4-bebb-6ca785702e54",
   "metadata": {},
   "outputs": [
    {
     "name": "stdout",
     "output_type": "stream",
     "text": [
      "X_train : (120, 4)\n",
      "y_train : (120,)\n",
      "X_test  : (30, 4)\n",
      "y_test  : (30,)\n"
     ]
    }
   ],
   "source": [
    "\"\"\"\n",
    "Python で動かして学ぶ\n",
    "あたらしい深層学習の\n",
    "教科書\n",
    "機械学習の基本から深層学習まで\n",
    "\"\"\"\n",
    "# p.33 リスト 2.1\n",
    "# コードの実行に必要なモジュールを読み込みます\n",
    "from sklearn import datasets\n",
    "from sklearn.model_selection import train_test_split\n",
    "\n",
    "# Iris というデータセットを読み込みます\n",
    "iris = datasets.load_iris()\n",
    "X = iris.data\n",
    "y = iris.target\n",
    "\n",
    "# 「X_train, X_test, y_train, y_test」にデータを格納します\n",
    "X_train, X_test, y_train, y_test = train_test_split(X, y, test_size=0.2, random_state=0)\n",
    "# トレーニングデータとテストデータのサイズを確認します\n",
    "print(\"X_train :\", X_train.shape)\n",
    "print(\"y_train :\", y_train.shape)\n",
    "print(\"X_test  :\", X_test.shape)\n",
    "print(\"y_test  :\", y_test.shape)"
   ]
  },
  {
   "cell_type": "code",
   "execution_count": null,
   "id": "aa40152c-0232-430c-83f8-51d965ff080c",
   "metadata": {},
   "outputs": [],
   "source": []
  }
 ],
 "metadata": {
  "kernelspec": {
   "display_name": "Python 3 (ipykernel)",
   "language": "python",
   "name": "python3"
  },
  "language_info": {
   "codemirror_mode": {
    "name": "ipython",
    "version": 3
   },
   "file_extension": ".py",
   "mimetype": "text/x-python",
   "name": "python",
   "nbconvert_exporter": "python",
   "pygments_lexer": "ipython3",
   "version": "3.11.3"
  }
 },
 "nbformat": 4,
 "nbformat_minor": 5
}
