{
 "cells": [
  {
   "cell_type": "code",
   "execution_count": 4,
   "id": "34c2095c-1c74-498d-8890-6ca5a4fcaddf",
   "metadata": {},
   "outputs": [
    {
     "name": "stdout",
     "output_type": "stream",
     "text": [
      "[0.86666667 0.96666667 0.83333333 0.96666667 0.93333333]\n",
      "平均スコア : 0.9133333333333334\n"
     ]
    }
   ],
   "source": [
    "# p.36 リスト 2.3\n",
    "# コードの実行に必要なモジュールを読み込みます\n",
    "from sklearn import svm, datasets\n",
    "from sklearn.model_selection import cross_val_score # この行追加した\n",
    "\n",
    "# 「Iris」というデータセットを読み込みます\n",
    "iris = datasets.load_iris()\n",
    "X = iris.data\n",
    "y = iris.target\n",
    "\n",
    "# 機械学習アルゴリズム SVM を使用します\n",
    "svc = svm.SVC(C=1, kernel=\"rbf\", gamma=0.001)\n",
    "\n",
    "# 交差検証法を用いてスコアを求めます\n",
    "# 内部では、X,y がそれぞれ「X_train, X_test, y_train, y_test」のように分割され処理されます\n",
    "scores = cross_val_score(svc, X, y, cv=5)   # この行変更した\n",
    "\n",
    "# トレーニングデータとテストデータのサイズを核にんします\n",
    "print(scores)\n",
    "print(\"平均スコア :\", scores.mean())"
   ]
  },
  {
   "cell_type": "code",
   "execution_count": null,
   "id": "d7b8eef5-f801-455c-aa08-9c5239f1e5f8",
   "metadata": {},
   "outputs": [],
   "source": []
  }
 ],
 "metadata": {
  "kernelspec": {
   "display_name": "Python 3 (ipykernel)",
   "language": "python",
   "name": "python3"
  },
  "language_info": {
   "codemirror_mode": {
    "name": "ipython",
    "version": 3
   },
   "file_extension": ".py",
   "mimetype": "text/x-python",
   "name": "python",
   "nbconvert_exporter": "python",
   "pygments_lexer": "ipython3",
   "version": "3.11.3"
  }
 },
 "nbformat": 4,
 "nbformat_minor": 5
}
