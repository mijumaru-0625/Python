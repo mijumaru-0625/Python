{
 "cells": [
  {
   "cell_type": "code",
   "execution_count": 1,
   "id": "eb8f43fe-478d-4c3b-b198-5beaf4eb5c9a",
   "metadata": {},
   "outputs": [
    {
     "name": "stdout",
     "output_type": "stream",
     "text": [
      "[[2 1]\n",
      " [0 3]]\n"
     ]
    }
   ],
   "source": [
    "# p.46 リスト 3.1\n",
    "# ここで必要となるモジュールをインポートします\n",
    "import numpy\n",
    "from sklearn.metrics import confusion_matrix\n",
    "\n",
    "# データを格納します。ここでは 0 が陽性、1 が陰性を表しています\n",
    "y_true = [0, 0, 0, 1, 1, 1]\n",
    "y_pred = [1, 0, 0, 1, 1, 1]\n",
    "\n",
    "confmat = confusion_matrix(y_true, y_pred)\n",
    "\n",
    "# 結果を出力します\n",
    "print(confmat)"
   ]
  },
  {
   "cell_type": "code",
   "execution_count": 3,
   "id": "43898311-d38c-46da-a162-54fb1103b19b",
   "metadata": {},
   "outputs": [
    {
     "name": "stdout",
     "output_type": "stream",
     "text": [
      "0.4\n"
     ]
    }
   ],
   "source": [
    "# p.49 F 値の式にある適合率、再現率は、% ではなくて 0.○○　で計算する\n",
    "# つまり、30% は 0.3 として計算する\n",
    "\n",
    "F = (2 * 0.3 * 0.6) / (0.3 + 0.6)\n",
    "print(F) # 0.4 → 40% ということ"
   ]
  },
  {
   "cell_type": "code",
   "execution_count": 5,
   "id": "51787395-dfbb-4ba7-90cb-d64fac36eced",
   "metadata": {},
   "outputs": [
    {
     "name": "stdout",
     "output_type": "stream",
     "text": [
      "1.0\n",
      "0.6666666666666666\n",
      "0.8\n"
     ]
    }
   ],
   "source": [
    "precision = 2 / 2\n",
    "recall = 2 / (2 + 1)\n",
    "F = 2 * precision * recall / (precision + recall)\n",
    "\n",
    "print(precision)\n",
    "print(recall)\n",
    "print(F)"
   ]
  },
  {
   "cell_type": "code",
   "execution_count": null,
   "id": "304a7d93-b2b8-40ec-ac3a-0d1f98730efd",
   "metadata": {},
   "outputs": [],
   "source": []
  }
 ],
 "metadata": {
  "kernelspec": {
   "display_name": "Python 3 (ipykernel)",
   "language": "python",
   "name": "python3"
  },
  "language_info": {
   "codemirror_mode": {
    "name": "ipython",
    "version": 3
   },
   "file_extension": ".py",
   "mimetype": "text/x-python",
   "name": "python",
   "nbconvert_exporter": "python",
   "pygments_lexer": "ipython3",
   "version": "3.11.3"
  }
 },
 "nbformat": 4,
 "nbformat_minor": 5
}
