{
 "cells": [
  {
   "cell_type": "code",
   "execution_count": 4,
   "id": "3331a76f-0556-474e-afce-60eac9d1f300",
   "metadata": {},
   "outputs": [
    {
     "name": "stdout",
     "output_type": "stream",
     "text": [
      "Precision: 0.750\n",
      "Recall   : 1.000\n",
      "F1       : 0.857\n",
      "\n",
      "Precision: 1.000\n",
      "Recall   : 0.667\n",
      "F1       : 0.800\n",
      "F1       : 0.800\n"
     ]
    }
   ],
   "source": [
    "# p.50 リスト 3.3\n",
    "# 適合率、再現率、F\n",
    "from sklearn.metrics import precision_score\n",
    "from sklearn.metrics import recall_score, f1_score\n",
    "\n",
    "# データを格納します。ここでは 0 が陽性、1 が陰性を表しています\n",
    "y_true = [0, 0, 0, 1, 1, 1]\n",
    "y_pred = [1, 0, 0, 1, 1, 1]\n",
    "\n",
    "# y_true には正解のラベルを、y_pred には予測結果のラベルをそれぞれ渡します。\n",
    "pre = precision_score(y_true, y_pred)\n",
    "rec = recall_score(y_true, y_pred)\n",
    "print(\"Precision: %.3f\" % pre)\n",
    "print(\"Recall   : %.3f\" % rec)\n",
    "print(\"F1       : %.3f\" % f1_score(y_true, y_pred))\n",
    "print()\n",
    "\n",
    "# データを格納します。ここでは 0 が陽性、1 が陰性を表しています\n",
    "y_true = [1, 1, 1, 0, 0, 0]\n",
    "y_pred = [0, 1, 1, 0, 0, 0]\n",
    "\n",
    "# y_true には正解のラベルを、y_pred には予測結果のラベルをそれぞれ渡します。\n",
    "pre = precision_score(y_true, y_pred)\n",
    "rec = recall_score(y_true, y_pred)\n",
    "\n",
    "my_f1_score = 2 * pre * rec / (pre + rec)\n",
    "print(\"Precision: %.3f\" % pre)\n",
    "print(\"Recall   : %.3f\" % rec)\n",
    "print(\"F1       : %.3f\" % f1_score(y_true, y_pred))\n",
    "print(\"F1       : %.3f\" % my_f1_score)"
   ]
  },
  {
   "cell_type": "code",
   "execution_count": null,
   "id": "9921433c-0f13-48cf-bbb8-f4416d0cff26",
   "metadata": {},
   "outputs": [],
   "source": []
  }
 ],
 "metadata": {
  "kernelspec": {
   "display_name": "Python 3 (ipykernel)",
   "language": "python",
   "name": "python3"
  },
  "language_info": {
   "codemirror_mode": {
    "name": "ipython",
    "version": 3
   },
   "file_extension": ".py",
   "mimetype": "text/x-python",
   "name": "python",
   "nbconvert_exporter": "python",
   "pygments_lexer": "ipython3",
   "version": "3.11.3"
  }
 },
 "nbformat": 4,
 "nbformat_minor": 5
}
