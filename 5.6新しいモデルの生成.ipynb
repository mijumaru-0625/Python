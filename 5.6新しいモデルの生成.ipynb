{
 "cells": [
  {
   "cell_type": "code",
   "execution_count": 1,
   "id": "24200bbb-36c0-4e4b-b453-2905aa3e75b6",
   "metadata": {},
   "outputs": [],
   "source": [
    "# リスト 5-4-(1)\n",
    "import numpy as np\n",
    "import matplotlib.pyplot as plt\n",
    "\n",
    "# データのロード -----\n",
    "data = np.load(\"ch5_data.npz\")\n",
    "X = data[\"X\"]\n",
    "X_min = 0\n",
    "X_max = data[\"X_max\"]\n",
    "N = data[\"N\"]\n",
    "T = data[\"T\"]\n",
    "\n",
    "# モデル A -----\n",
    "def model_A(x, w):\n",
    "    y = w[0] - w[1] * np.exp(-w[2] * x)  # 式 5-71\n",
    "    return y\n",
    "\n",
    "# モデル A 表示 -----\n",
    "def show_model_A(w):\n",
    "    x = np.linspace(X_min, X_max, 100)\n",
    "    y = model_A(x, w)\n",
    "    plt.plot(x, y, \"gray\", linewidth=4)\n",
    "\n",
    "# モデル A の平均二乗誤差（MSE） -----\n",
    "def mse_model_A(w, x, t):\n",
    "    y = model_A(x, w)\n",
    "    mse = np.mean((y - t) ** 2)   # 式 5-72\n",
    "    return mse"
   ]
  },
  {
   "cell_type": "code",
   "execution_count": 2,
   "id": "ff697ca5-8bba-4ea5-8deb-e2e78d91897f",
   "metadata": {},
   "outputs": [],
   "source": [
    "# リスト 5-4-(2)\n",
    "from scipy.optimize import minimize\n",
    "\n",
    "# モデル A のパラメーターの最適化\n",
    "def fit_model_A(w_init, x, t):\n",
    "    res = minimize(mse_model_A, w_init, args=(x, t), method=\"powell\")\n",
    "    return res.x"
   ]
  },
  {
   "cell_type": "code",
   "execution_count": 3,
   "id": "f3712dd0-2741-4342-8171-8ab359b706ef",
   "metadata": {},
   "outputs": [
    {
     "name": "stdout",
     "output_type": "stream",
     "text": [
      "w0 = 169.04, w1 = 113.66, w2 = 0.22\n",
      "SD = 3.86 cm\n"
     ]
    },
    {
     "data": {
      "image/png": "[encoded data removed]",
      "text/plain": [
       "<Figure size 400x400 with 1 Axes>"
      ]
     },
     "metadata": {},
     "output_type": "display_data"
    }
   ],
   "source": [
    "# リスト 5-4-(3)\n",
    "# メイン -----\n",
    "w_init = np.array([100.0, 0.0, 0.0])  # w の初期値\n",
    "w = fit_model_A(w_init, X, T)         # w を計算\n",
    "sd = np.sqrt(mse_model_A(w, X, T))    # SD を計算\n",
    "# 結果表示\n",
    "print(f\"w0 = {w[0]:.2f}, w1 = {w[1]:.2f}, w2 = {w[2]:.2f}\")\n",
    "print(f\"SD = {sd:.2f} cm\")\n",
    "\n",
    "# グラフ描画 -----\n",
    "plt.figure(figsize=(4, 4))\n",
    "show_model_A(w)\n",
    "plt.plot(\n",
    "    X, T, \"cornflowerblue\",\n",
    "    marker=\"o\", linestyle=\"None\", markeredgecolor=\"black\",\n",
    ")\n",
    "plt.xlim(X_min, X_max)\n",
    "plt.grid()\n",
    "plt.show()"
   ]
  },
  {
   "cell_type": "code",
   "execution_count": 4,
   "id": "3f622ba0-6b14-492d-9ace-3a2cb9a4e657",
   "metadata": {},
   "outputs": [
    {
     "name": "stdout",
     "output_type": "stream",
     "text": [
      "Gauss(M=3) SD = 6.51 cm\n",
      "Model A SD = 4.70 cm\n"
     ]
    },
    {
     "data": {
      "image/png": "[encoded data removed]",
      "text/plain": [
       "<Figure size 500x300 with 1 Axes>"
      ]
     },
     "metadata": {},
     "output_type": "display_data"
    }
   ],
   "source": [
    "# リスト 5-4-(4)\n",
    "# 交差検証 モデル A -----\n",
    "def kfold_model_A(x, t, k):\n",
    "    n = len(x)\n",
    "    mse_train = np.zeros(k)\n",
    "    mse_test = np.zeros(k)\n",
    "    for i in range(0, k):\n",
    "        # 訓練データとテストデータに分類\n",
    "        i_test = np.fmod(range(n), k)\n",
    "        x_test = x[i_test == i]\n",
    "        t_test = t[i_test == i]\n",
    "        x_train = x[i_test != i]\n",
    "        t_train = t[i_test != i]\n",
    "        # 精度を上げるため\n",
    "        # リスト 5-4-(3) で得た値を初期値に設定\n",
    "        w_init = np.array([169.04, 113.66, 0.22])\n",
    "        w = fit_model_A(w_init, x_train, t_train)\n",
    "        mse_train[i] = mse_model_A(w, x_train, t_train)\n",
    "        mse_test[i] = mse_model_A(w, x_test, t_test)\n",
    "\n",
    "    return mse_train, mse_test\n",
    "\n",
    "# メイン -----\n",
    "# model A の交差検定\n",
    "K = 16\n",
    "Cv_A_train, Cv_A_test = kfold_model_A(X, T, K)\n",
    "sd_A_test = np.sqrt(np.mean(Cv_A_test))\n",
    "# 線形基底関数モデルの交差検定の結果のロード\n",
    "sd_Gauss_test = np.load(\"ch5_Gauss_test.npy\")\n",
    "# 結果のまとめ\n",
    "SDs = np.append(sd_Gauss_test[0:5], sd_A_test)\n",
    "# 結果表示\n",
    "print(f\"Gauss(M=3) SD = {sd_Gauss_test[1]:.2f} cm\")\n",
    "print(f\"Model A SD = {sd_A_test:.2f} cm\")\n",
    "\n",
    "# グラフ描画 -----\n",
    "M = range(6)\n",
    "label = [\"M=2\", \"M=3\", \"M=4\", \"M=5\", \"M=6\", \"Model A\"]\n",
    "plt.figure(figsize=(5, 3))\n",
    "plt.bar(\n",
    "    M, SDs, facecolor=\"cornflowerblue\", align=\"center\",\n",
    "    tick_label=label,\n",
    ")\n",
    "plt.show()\n",
    "        "
   ]
  },
  {
   "cell_type": "code",
   "execution_count": 5,
   "id": "a7867556-cb06-4093-b47b-3bb4431766f3",
   "metadata": {},
   "outputs": [
    {
     "data": {
      "text/plain": [
       "165.22625542002046"
      ]
     },
     "execution_count": 5,
     "metadata": {},
     "output_type": "execute_result"
    }
   ],
   "source": [
    "w = [169.04, 113.66, 0.22]\n",
    "model_A(15.43, w)"
   ]
  },
  {
   "cell_type": "code",
   "execution_count": null,
   "id": "5176b169-459a-49b0-ad75-06b5471bc16b",
   "metadata": {},
   "outputs": [],
   "source": []
  }
 ],
 "metadata": {
  "kernelspec": {
   "display_name": "Python 3 (ipykernel)",
   "language": "python",
   "name": "python3"
  },
  "language_info": {
   "codemirror_mode": {
    "name": "ipython",
    "version": 3
   },
   "file_extension": ".py",
   "mimetype": "text/x-python",
   "name": "python",
   "nbconvert_exporter": "python",
   "pygments_lexer": "ipython3",
   "version": "3.12.2"
  }
 },
 "nbformat": 4,
 "nbformat_minor": 5
}
