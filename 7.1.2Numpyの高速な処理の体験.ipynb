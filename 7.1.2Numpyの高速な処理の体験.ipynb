{
 "cells": [
  {
   "cell_type": "code",
   "execution_count": 25,
   "id": "db8f875f-2c1a-4f67-8648-b8eb4f1ab7cb",
   "metadata": {},
   "outputs": [
    {
     "name": "stdout",
     "output_type": "stream",
     "text": [
      "Python の機能のみで計算結果：3.72[sec]\n",
      "Numpy を使った場合の計算結果：0.000000[sec]\n"
     ]
    }
   ],
   "source": [
    "# p.174 リスト 7.1\n",
    "# 必要なライブラリを import します\n",
    "import numpy as np\n",
    "import time\n",
    "from numpy.random import rand\n",
    "\n",
    "# 行、列の大きさ\n",
    "N = 150\n",
    "\n",
    "# 行列を初期化します\n",
    "matA = np.array(rand(N, N))\n",
    "matB = np.array(rand(N, N))\n",
    "matC = np.array([[0] * N for _ in range(N)])\n",
    "\n",
    "# Python のリストを使って計算します\n",
    "\n",
    "# 開始時間を取得します\n",
    "start = time.time()\n",
    "\n",
    "# for 文を使って行列の掛け算を実行します\n",
    "for i in range(N):\n",
    "    for j in range(N):\n",
    "        for k in range(N):\n",
    "            matC[i][j] = matA[i][k] * matB[k][j]\n",
    "\n",
    "print(\"Python の機能のみで計算結果：%.2f[sec]\" % float(time.time() - start))\n",
    "\n",
    "# Numpy を使って計算します\n",
    "\n",
    "# 開始時間を取得します\n",
    "start = time.time()\n",
    "\n",
    "# Numpy を使って行列の掛け算を計算します\n",
    "matC = np.dot(matA, matB)\n",
    "\n",
    "# 小数第2位の桁で打ち切っているので Numpy は 0.00[sec] と表示されることがあります\n",
    "print(\"Numpy を使った場合の計算結果：%f[sec]\" % float(time.time() - start))"
   ]
  },
  {
   "cell_type": "code",
   "execution_count": null,
   "id": "3ad621f8-d6c6-4d47-824e-e8d4f28efc93",
   "metadata": {},
   "outputs": [],
   "source": []
  }
 ],
 "metadata": {
  "kernelspec": {
   "display_name": "Python 3 (ipykernel)",
   "language": "python",
   "name": "python3"
  },
  "language_info": {
   "codemirror_mode": {
    "name": "ipython",
    "version": 3
   },
   "file_extension": ".py",
   "mimetype": "text/x-python",
   "name": "python",
   "nbconvert_exporter": "python",
   "pygments_lexer": "ipython3",
   "version": "3.11.3"
  }
 },
 "nbformat": 4,
 "nbformat_minor": 5
}
