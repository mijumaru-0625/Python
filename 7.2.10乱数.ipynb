{
 "cells": [
  {
   "cell_type": "code",
   "execution_count": 15,
   "id": "b78cb27c-1abc-4c8a-bf6a-9e68b7ebf883",
   "metadata": {},
   "outputs": [
    {
     "name": "stdout",
     "output_type": "stream",
     "text": [
      "[[ 6  5]\n",
      " [ 4  8]\n",
      " [ 7  4]\n",
      " [10  8]\n",
      " [ 1  5]]\n",
      "[0.19397888 0.07520766 0.71034367]\n"
     ]
    }
   ],
   "source": [
    "# p.192 リスト 7.27\n",
    "\n",
    "import numpy as np\n",
    "\n",
    "# randint() 関数を np.random と付けなくても良いように import\n",
    "from numpy.random import randint\n",
    "\n",
    "# 変数 arr1 に、各要素が 0 以上 10 以内の整数の行列 (5 x 2) を代入\n",
    "arr1 = randint(0, 11, (5, 2))\n",
    "print(arr1)\n",
    "\n",
    "# 変数 arr2 に 0 以上 1 未満の一様乱数を 3 つ代入\n",
    "arr2 = np.random.rand(3)\n",
    "print(arr2)"
   ]
  },
  {
   "cell_type": "code",
   "execution_count": null,
   "id": "36a4694b-f3ad-4198-99d1-2995b3206b94",
   "metadata": {},
   "outputs": [],
   "source": []
  }
 ],
 "metadata": {
  "kernelspec": {
   "display_name": "Python 3 (ipykernel)",
   "language": "python",
   "name": "python3"
  },
  "language_info": {
   "codemirror_mode": {
    "name": "ipython",
    "version": 3
   },
   "file_extension": ".py",
   "mimetype": "text/x-python",
   "name": "python",
   "nbconvert_exporter": "python",
   "pygments_lexer": "ipython3",
   "version": "3.11.3"
  }
 },
 "nbformat": 4,
 "nbformat_minor": 5
}
