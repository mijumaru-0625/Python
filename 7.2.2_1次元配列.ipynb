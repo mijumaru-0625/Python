{
 "cells": [
  {
   "cell_type": "code",
   "execution_count": 2,
   "id": "fb651bc6-6a25-4b72-ba72-5a24505516d5",
   "metadata": {},
   "outputs": [
    {
     "name": "stdout",
     "output_type": "stream",
     "text": [
      "[24, 3, 4, 23, 10, 12]\n",
      "<class 'numpy.ndarray'>\n"
     ]
    }
   ],
   "source": [
    "# p.177 リスト 7.5\n",
    "import numpy as np\n",
    "\n",
    "storages = [24, 3, 4, 23, 10, 12]\n",
    "print(storages)\n",
    "\n",
    "# ndarray 配列を生成し、変数 np_storages に代入\n",
    "np_storages = np.array(storages)\n",
    "\n",
    "# 変数 np_storages の型\n",
    "print(type(np_storages))"
   ]
  },
  {
   "cell_type": "code",
   "execution_count": 7,
   "id": "3240e63d-0e04-4219-8aaf-3e3cd1856419",
   "metadata": {},
   "outputs": [
    {
     "name": "stdout",
     "output_type": "stream",
     "text": [
      "arr + arr =  [ 4 10  6  8 16]\n",
      "arr - arr = [0 0 0 0 0]\n",
      "arr ** 3 = [  8 125  27  64 512]\n",
      "1 / arr = [0.5        0.2        0.33333333 0.25       0.125     ]\n"
     ]
    }
   ],
   "source": [
    "# p.179 リスト7.9\n",
    "\n",
    "arr = np.array([2, 5, 3, 4, 8])\n",
    "\n",
    "# arr + arr\n",
    "print(\"arr + arr = \", arr + arr)\n",
    "\n",
    "# arr - arr\n",
    "print(\"arr - arr =\", arr - arr)\n",
    "\n",
    "# arr * 3\n",
    "print(\"arr ** 3 =\", arr ** 3)\n",
    "\n",
    "# 1 / arr\n",
    "print(\"1 / arr =\", 1 / arr)"
   ]
  },
  {
   "cell_type": "code",
   "execution_count": 9,
   "id": "63d1b7a8-d485-4481-8719-2916433ba8ba",
   "metadata": {},
   "outputs": [
    {
     "name": "stdout",
     "output_type": "stream",
     "text": [
      "[0 1 2 3 4 5 6 7 8 9]\n",
      "[3 4 5]\n",
      "[ 0  1  2 24 24 24  6  7  8  9]\n"
     ]
    }
   ],
   "source": [
    "# p.182 リスト 7.13\n",
    "\n",
    "arr = np.arange(10)\n",
    "print(arr)\n",
    "\n",
    "# 変数 arr の要素のうち、3, 4, 5 だけを出力してください\n",
    "print(arr[3:6])\n",
    "\n",
    "# 変数 arr の要素のうち、3, 4, 5 を 24 に変更してください\n",
    "arr[3:6] = 24\n",
    "print(arr)"
   ]
  },
  {
   "cell_type": "code",
   "execution_count": 12,
   "id": "f9937590-b5d7-4660-bcd9-67f26d7695df",
   "metadata": {},
   "outputs": [
    {
     "name": "stdout",
     "output_type": "stream",
     "text": [
      "[1 2 3 4 5]\n",
      "[100   2   3   4   5]\n",
      "[1 2 3 4 5]\n",
      "[1 2 3 4 5]\n"
     ]
    }
   ],
   "source": [
    "# p.183 リスト 7.15\n",
    "\n",
    "# ndarray をそのまま別の変数に代入した場合の挙動を見て行きましょう\n",
    "arr1 = np.array([1, 2, 3, 4, 5])\n",
    "print(arr1)\n",
    "\n",
    "arr2 = arr1\n",
    "arr2[0] = 100\n",
    "\n",
    "# 別の変数への影響が元の変数にも影響されています\n",
    "print(arr1)\n",
    "\n",
    "# ndarray を copy() を使って別の変数に代入した場合の挙動を見て行きましょう\n",
    "arr1 = np.array([1, 2, 3, 4, 5])\n",
    "print(arr1)\n",
    "\n",
    "arr2 = arr1.copy()\n",
    "arr2[0] = 100\n",
    "\n",
    "# 別の変数への変更が元の変数には影響を与えていません\n",
    "print(arr1)"
   ]
  },
  {
   "cell_type": "code",
   "execution_count": 19,
   "id": "011f6dc3-3645-4444-ae78-61bc8c341a90",
   "metadata": {},
   "outputs": [
    {
     "name": "stdout",
     "output_type": "stream",
     "text": [
      "リスト型データです\n",
      "arr_List: [0, 1, 2, 3, 4, 5, 6, 7, 8, 9]\n",
      "\n",
      "リストのスライスではコピーが作られるので、arr_List には arr_List_copy の変更が反映されません。\n",
      "arr_List: [0, 1, 2, 3, 4, 5, 6, 7, 8, 9]\n",
      "\n",
      "Numpy の ndarray データです\n",
      "arr_Numpy: [0 1 2 3 4 5 6 7 8 9]\n",
      "\n",
      "Numpy のスライスでは view（データが格納されている場所の情報）が代入されるので、arr_Numpy_view の変更が arr_Numpy に反映されます\n",
      "arr_Numpy: [100   1   2   3   4   5   6   7   8   9]\n",
      "\n",
      "Numpy の ndarray で copy() を用いた場合の挙動です\n",
      "arr_Numpy: [0 1 2 3 4 5 6 7 8 9]\n",
      "\n",
      "copy() を用いた場合は、コピーが生成されているので arr_Numpy_copy は arr_Numpy に影響を与えません\n",
      "arr_Numpy: [0 1 2 3 4 5 6 7 8 9]\n"
     ]
    }
   ],
   "source": [
    "# p.184 リスト 7.17\n",
    "\n",
    "# Python のリストでスライスを用いた場合の挙動を確認しましょう\n",
    "arr_List = [x for x in range(10)]\n",
    "print(\"リスト型データです\")\n",
    "print(\"arr_List:\", arr_List)\n",
    "\n",
    "print()\n",
    "arr_List_copy = arr_List[:]\n",
    "arr_List_copy[0] = 100\n",
    "\n",
    "print(\"リストのスライスではコピーが作られるので、arr_List には arr_List_copy の変更が反映されません。\")\n",
    "print(\"arr_List:\", arr_List)\n",
    "print()\n",
    "\n",
    "# Numpy の ndarray でスライスを用いた場合でも挙動を確認しましょう\n",
    "arr_Numpy = np.arange(10)\n",
    "print(\"Numpy の ndarray データです\")\n",
    "print(\"arr_Numpy:\", arr_Numpy)\n",
    "print()\n",
    "\n",
    "arr_Numpy_view = arr_Numpy[:]\n",
    "arr_Numpy_view[0] = 100\n",
    "\n",
    "print(\"Numpy のスライスでは view（データが格納されている場所の情報）が代入されるので、arr_Numpy_view の変更が arr_Numpy に反映されます\")\n",
    "print(\"arr_Numpy:\", arr_Numpy)\n",
    "print()\n",
    "\n",
    "# Numpy の ndarray で copy() を用いた場合での挙動を確認しましょう\n",
    "arr_Numpy = np.arange(10)\n",
    "print(\"Numpy の ndarray で copy() を用いた場合の挙動です\")\n",
    "print(\"arr_Numpy:\", arr_Numpy)\n",
    "print()\n",
    "arr_Numpy_copy = arr_Numpy[:].copy()\n",
    "arr_Numpy_copy[0] = 100\n",
    "\n",
    "print(\"copy() を用いた場合は、コピーが生成されているので arr_Numpy_copy は arr_Numpy に影響を与えません\")\n",
    "print(\"arr_Numpy:\", arr_Numpy)"
   ]
  },
  {
   "cell_type": "code",
   "execution_count": 30,
   "id": "1872438c-167a-4578-9628-6391270d15f7",
   "metadata": {},
   "outputs": [
    {
     "name": "stdout",
     "output_type": "stream",
     "text": [
      "[ True False  True False  True False]\n",
      "[2 4 6]\n"
     ]
    }
   ],
   "source": [
    "# p.187 リスト 7.21\n",
    "\n",
    "arr = np.array([2, 3, 4, 5, 6, 7])\n",
    "\n",
    "# 変数 arr の各要素が 2 で割り切れるかどうかを示す真偽値の配列を出力してください\n",
    "print(arr % 2 == 0)\n",
    "\n",
    "# 変数 arr 各要素のうち 2 で割り切れる要素の配列を出力してください\n",
    "print(arr[arr % 2 == 0])"
   ]
  },
  {
   "cell_type": "code",
   "execution_count": 37,
   "id": "786f53ff-1d6b-4a47-85c1-c4c548cedd23",
   "metadata": {},
   "outputs": [
    {
     "name": "stdout",
     "output_type": "stream",
     "text": [
      "[ 4 -9 16 -4 20]\n",
      "[ 4  9 16  4 20]\n",
      "[5.45981500e+01 8.10308393e+03 8.88611052e+06 5.45981500e+01\n",
      " 4.85165195e+08]\n",
      "[2.         3.         4.         2.         4.47213595]\n"
     ]
    }
   ],
   "source": [
    "# p.189 リスト 7.23\n",
    "\n",
    "arr = np.array([4, -9, 16, -4, 20])\n",
    "print(arr)\n",
    "\n",
    "# 変数 arr の各要素を絶対値にし、変数 arr_abs に代入\n",
    "arr_abs = np.abs(arr)\n",
    "print(arr_abs)\n",
    "\n",
    "# 変数 arr_abs の各要素の e のべき乗と平方根を出力\n",
    "print(np.exp(arr_abs))\n",
    "print(np.sqrt(arr_abs))"
   ]
  },
  {
   "cell_type": "code",
   "execution_count": 44,
   "id": "04099138-32a4-43d6-bf05-c52b37ebde4f",
   "metadata": {},
   "outputs": [
    {
     "name": "stdout",
     "output_type": "stream",
     "text": [
      "[2 5 7 9]\n",
      "[1 2 3 5 7 8 9]\n",
      "[2 5]\n",
      "[7 9]\n"
     ]
    }
   ],
   "source": [
    "# p.190 リスト7.25\n",
    "\n",
    "arr1 = [2, 5, 7, 9, 5, 2]\n",
    "arr2 = [2, 5, 8, 3, 1]\n",
    "\n",
    "# np.unique() 関数を用いて重複をなくした配列を変数 new_arr1 に代入\n",
    "new_arr1 = np.unique(arr1)\n",
    "print(new_arr1)\n",
    "\n",
    "# 変数 new_arr1 と変数 arr2 の和集合出力\n",
    "print(np.union1d(new_arr1, arr2))\n",
    "\n",
    "# 変数 new_arr1 と変数 arr2 の積集合を出力\n",
    "print(np.intersect1d(new_arr1, arr2))\n",
    "\n",
    "# 変数 new_arr1 から変数 arr2 を引いた差集合を出力\n",
    "print(np.setdiff1d(new_arr1, arr2))"
   ]
  },
  {
   "cell_type": "code",
   "execution_count": null,
   "id": "94bb962d-af6b-4a43-a6c8-a0b413287545",
   "metadata": {},
   "outputs": [],
   "source": []
  }
 ],
 "metadata": {
  "kernelspec": {
   "display_name": "Python 3 (ipykernel)",
   "language": "python",
   "name": "python3"
  },
  "language_info": {
   "codemirror_mode": {
    "name": "ipython",
    "version": 3
   },
   "file_extension": ".py",
   "mimetype": "text/x-python",
   "name": "python",
   "nbconvert_exporter": "python",
   "pygments_lexer": "ipython3",
   "version": "3.11.3"
  }
 },
 "nbformat": 4,
 "nbformat_minor": 5
}
