{
 "cells": [
  {
   "cell_type": "code",
   "execution_count": 11,
   "id": "d853f6a5-7b4f-487a-ae2c-9b1363fe0a6d",
   "metadata": {},
   "outputs": [
    {
     "name": "stdout",
     "output_type": "stream",
     "text": [
      "[[1 2 3 4]\n",
      " [5 6 7 8]]\n",
      "(2, 4)\n",
      "[[1 2]\n",
      " [3 4]\n",
      " [5 6]\n",
      " [7 8]]\n",
      "arr = [[1 2 3 4]\n",
      " [5 6 7 8]]\n",
      "numpy.ndarray.shape プロパティで次元の要素数を変換\n",
      "arr = [[1 2]\n",
      " [3 4]\n",
      " [5 6]\n",
      " [7 8]]\n"
     ]
    }
   ],
   "source": [
    "# p.194 リスト 7.29\n",
    "\n",
    "import numpy as np\n",
    "\n",
    "# 変数 arr に 2 次元配列を代入\n",
    "arr = np.array([[1, 2, 3, 4], [5, 6, 7, 8]])\n",
    "print(arr)\n",
    "\n",
    "# 変数 arr の行列の各次元の要素数を出力\n",
    "print(arr.shape)\n",
    "\n",
    "# 変数 arr を 4 行 2 列の行列に変換\n",
    "print(arr.reshape((4, 2)))\n",
    "\n",
    "print(\"arr =\", arr)\n",
    "print(\"numpy.ndarray.shape プロパティで次元の要素数を変換\")\n",
    "arr.shape = (4, 2)\n",
    "print(\"arr =\", arr)"
   ]
  },
  {
   "cell_type": "code",
   "execution_count": 17,
   "id": "bd44d3e1-4147-4f10-ad06-c5b09ef3a40d",
   "metadata": {},
   "outputs": [
    {
     "name": "stdout",
     "output_type": "stream",
     "text": [
      "arr = [[1 2 3]\n",
      " [4 5 6]\n",
      " [7 8 9]]\n",
      "\n",
      "3 を出力： 3\n",
      "\n",
      "[[4 5]\n",
      " [7 8]]\n"
     ]
    }
   ],
   "source": [
    "# 7.3.2 インデックス参照とスライス\n",
    "# p.197 リスト 7.34\n",
    "\n",
    "arr = np.array([[1, 2, 3], [4, 5, 6], [7, 8, 9]])\n",
    "print(\"arr =\", arr)\n",
    "print()\n",
    "\n",
    "# 変数 arr の要素のうち 3 を出力\n",
    "print(\"3 を出力：\", arr[0, 2])\n",
    "print()\n",
    "\n",
    "# 変数 arr からスライス\n",
    "print(arr[1:, :2])"
   ]
  },
  {
   "cell_type": "code",
   "execution_count": 19,
   "id": "de83bf73-12ad-4037-b965-a65fbb0a46e0",
   "metadata": {},
   "outputs": [
    {
     "name": "stdout",
     "output_type": "stream",
     "text": [
      "行の合計値： [ 6 21 57]\n"
     ]
    }
   ],
   "source": [
    "# 7.3.3 axis\n",
    "# p.199 リスト 7.37\n",
    "\n",
    "arr = np.array([[1, 2, 3], [4, 5, 12], [15, 20, 22]])\n",
    "print(\"行の合計値：\", arr.sum(axis=1))"
   ]
  },
  {
   "cell_type": "code",
   "execution_count": 23,
   "id": "9ded2118-597d-4e53-836f-fcd6cf55e8c5",
   "metadata": {},
   "outputs": [
    {
     "name": "stdout",
     "output_type": "stream",
     "text": [
      "[[ 5  6  7  8  9]\n",
      " [15 16 17 18 19]\n",
      " [ 0  1  2  3  4]]\n"
     ]
    }
   ],
   "source": [
    "# 7.3.4 ファンシーインデックス参照\n",
    "# p.201 リスト 7.40\n",
    "\n",
    "arr = np.arange(25).reshape(5, 5)\n",
    "print(arr[[1, 3, 0]])"
   ]
  },
  {
   "cell_type": "code",
   "execution_count": 33,
   "id": "5517b91d-9b38-43e4-86a1-28f324107aed",
   "metadata": {},
   "outputs": [
    {
     "name": "stdout",
     "output_type": "stream",
     "text": [
      "[[0 1 2 3 4]\n",
      " [5 6 7 8 9]]\n",
      "[[0 5]\n",
      " [1 6]\n",
      " [2 7]\n",
      " [3 8]\n",
      " [4 9]]\n",
      "\n",
      "[[0 5]\n",
      " [1 6]\n",
      " [2 7]\n",
      " [3 8]\n",
      " [4 9]]\n",
      "\n",
      "[[0 5]\n",
      " [1 6]\n",
      " [2 7]\n",
      " [3 8]\n",
      " [4 9]]\n"
     ]
    }
   ],
   "source": [
    "# 7.3.5 転置行列\n",
    "# p.202 リスト 7.42\n",
    "\n",
    "arr = np.arange(10).reshape(2, 5)\n",
    "print(arr)\n",
    "print(arr.T)\n",
    "\n",
    "print()\n",
    "print(arr.transpose())\n",
    "print()\n",
    "print(np.transpose(arr))"
   ]
  },
  {
   "cell_type": "code",
   "execution_count": 40,
   "id": "b0a6aa5d-9a6c-4120-b4bc-577248269803",
   "metadata": {},
   "outputs": [
    {
     "name": "stdout",
     "output_type": "stream",
     "text": [
      "[[2 1 0]\n",
      " [2 0 1]]\n",
      "\n",
      "[[2 4 8]\n",
      " [1 3 5]]\n",
      "\n",
      "[[2 4 8]\n",
      " [1 3 5]]\n"
     ]
    }
   ],
   "source": [
    "# 7.3.6 ソート\n",
    "# p.204 リスト 7.45\n",
    "\n",
    "arr = np.array([[8, 4, 2], [3, 5, 1]])\n",
    "\n",
    "# argsort() メソッドを使用\n",
    "print(arr.argsort())\n",
    "print()\n",
    "\n",
    "# np.sort() 関数を用いてソートし出力\n",
    "print(np.sort(arr))\n",
    "print()\n",
    "\n",
    "# sort() メソッドを用いて行でソート\n",
    "arr.sort(axis=1)\n",
    "print(arr)"
   ]
  },
  {
   "cell_type": "code",
   "execution_count": 46,
   "id": "56708314-cc0f-4ee0-97bb-c6dec9bbce21",
   "metadata": {},
   "outputs": [
    {
     "name": "stdout",
     "output_type": "stream",
     "text": [
      "[[0 1 2]\n",
      " [3 4 5]\n",
      " [6 7 8]]\n",
      "\n",
      "行列積の計算\n",
      "[[ 15  18  21]\n",
      " [ 42  54  66]\n",
      " [ 69  90 111]]\n",
      "\n",
      "[0 1 2 3 4 5 6 7 8]\n",
      "ノルムの計算： 14.2828568570857\n"
     ]
    }
   ],
   "source": [
    "# 7.3.7 行列計算\n",
    "# p.206 リスト 7.47\n",
    "\n",
    "arr = np.arange(9).reshape(3, 3)\n",
    "print(arr)\n",
    "\n",
    "print(\"\\n行列積の計算\")\n",
    "print(np.dot(arr, arr))\n",
    "\n",
    "print()\n",
    "vec = arr.reshape(9)\n",
    "print(vec)\n",
    "print(\"ノルムの計算：\", np.linalg.norm(vec))"
   ]
  },
  {
   "cell_type": "code",
   "execution_count": 55,
   "id": "b9ebff8f-c2af-4bd9-b17e-013d779d425a",
   "metadata": {},
   "outputs": [
    {
     "name": "stdout",
     "output_type": "stream",
     "text": [
      "arr\n",
      "[[ 0  1  2  3  4]\n",
      " [ 5  6  7  8  9]\n",
      " [10 11 12 13 14]]\n",
      "\n",
      "列ごとの平均\n",
      "[5. 6. 7. 8. 9.]\n",
      "\n",
      "行の合計\n",
      "[10 35 60]\n",
      "\n",
      "最小値: 0\n",
      "\n",
      "それぞれの列の最大値のインデックス番号\n",
      "[2 2 2 2 2]\n"
     ]
    }
   ],
   "source": [
    "# 7.3.8 統計関数\n",
    "# p.208 リスト 7.49\n",
    "\n",
    "print(\"arr\")\n",
    "arr = np.arange(15).reshape(3, 5)\n",
    "print(arr)\n",
    "print()\n",
    "\n",
    "print(\"列ごとの平均\")\n",
    "print(np.mean(arr, axis=0))\n",
    "\n",
    "print(\"\\n行の合計\")\n",
    "print(np.sum(arr, axis=1))\n",
    "\n",
    "print(\"\\n最小値:\", np.min(arr))\n",
    "\n",
    "print(\"\\nそれぞれの列の最大値のインデックス番号\")\n",
    "print(np.argmax(arr, axis=0))"
   ]
  },
  {
   "cell_type": "code",
   "execution_count": 60,
   "id": "21920dff-3cb7-45d4-9a48-5848cdc70b6b",
   "metadata": {},
   "outputs": [
    {
     "name": "stdout",
     "output_type": "stream",
     "text": [
      "x\n",
      " [[ 0  1  2  3  4]\n",
      " [ 5  6  7  8  9]\n",
      " [10 11 12 13 14]]\n",
      "y\n",
      " [[0 1 2 3 4]]\n",
      "z = x - y\n",
      " [[ 0  0  0  0  0]\n",
      " [ 5  5  5  5  5]\n",
      " [10 10 10 10 10]]\n"
     ]
    }
   ],
   "source": [
    "# 7.3.9 ブロードキャスト\n",
    "# p.209 リスト 7.52\n",
    "\n",
    "x = np.arange(15).reshape(3, 5)\n",
    "print(\"x\\n\", x)\n",
    "\n",
    "y = np.array([np.arange(5)])\n",
    "print(\"y\\n\",y)\n",
    "\n",
    "z = x - y\n",
    "print(\"z = x - y\\n\", z)"
   ]
  },
  {
   "cell_type": "code",
   "execution_count": null,
   "id": "2e10e8f0-0dda-4de3-bf98-c6e0b8203ccb",
   "metadata": {},
   "outputs": [],
   "source": []
  }
 ],
 "metadata": {
  "kernelspec": {
   "display_name": "Python 3 (ipykernel)",
   "language": "python",
   "name": "python3"
  },
  "language_info": {
   "codemirror_mode": {
    "name": "ipython",
    "version": 3
   },
   "file_extension": ".py",
   "mimetype": "text/x-python",
   "name": "python",
   "nbconvert_exporter": "python",
   "pygments_lexer": "ipython3",
   "version": "3.11.3"
  }
 },
 "nbformat": 4,
 "nbformat_minor": 5
}
