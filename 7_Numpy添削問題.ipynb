{
 "cells": [
  {
   "cell_type": "code",
   "execution_count": 18,
   "id": "387d5f35-8add-429e-83bf-d3e2300d7502",
   "metadata": {},
   "outputs": [
    {
     "name": "stdout",
     "output_type": "stream",
     "text": [
      "[[ 8 24  3]\n",
      " [ 7 23 15]\n",
      " [16 10 30]\n",
      " [20  2 21]\n",
      " [ 2  2 14]]\n",
      "\n",
      "[[ 8  7 16 20  2]\n",
      " [24 23 10  2  2]\n",
      " [ 3 15 30 21 14]]\n",
      "\n",
      "[[ 7 16 20]\n",
      " [23 10  2]\n",
      " [15 30 21]]\n",
      "\n",
      "行、もとい、列でソート\n",
      "[[ 7 10  2]\n",
      " [15 16 20]\n",
      " [23 30 21]]\n",
      "\n",
      "[15.         18.66666667 14.33333333]\n"
     ]
    }
   ],
   "source": [
    "# p.212 リスト 7.54\n",
    "\n",
    "import numpy as np\n",
    "\n",
    "np.random.seed(100)\n",
    "\n",
    "# 各要素が 0 ～ 30 の整数の行列 (5 x 3) を変数 arr に代入\n",
    "arr = np.random.randint(0, 31, (5, 3))\n",
    "print(arr)\n",
    "print()\n",
    "\n",
    "# 変数 arr を転置\n",
    "arr = arr.T\n",
    "print(arr)\n",
    "print()\n",
    "\n",
    "# 変数 arr の 2, 3, 4 列のみの行列 (3 x 3) を変数 arr1 に代入\n",
    "arr1 = arr[:, 1:4]\n",
    "print(arr1)\n",
    "print()\n",
    "\n",
    "# 変数 arr1 を行でソート\n",
    "print(\"行、もとい、列でソート\")\n",
    "arr1.sort(axis=0) # p.204 に行でソートすると時は axis=1 と記載あるのに、添削問題では 0 にしている矛盾 → おそらく間違い\n",
    "print(arr1)\n",
    "print()\n",
    "\n",
    "# 各列の平均を出力\n",
    "print(arr1.mean(axis=0))"
   ]
  },
  {
   "cell_type": "code",
   "execution_count": null,
   "id": "3efe915e-7460-47c3-a4e1-384ee50e87f2",
   "metadata": {},
   "outputs": [],
   "source": []
  }
 ],
 "metadata": {
  "kernelspec": {
   "display_name": "Python 3 (ipykernel)",
   "language": "python",
   "name": "python3"
  },
  "language_info": {
   "codemirror_mode": {
    "name": "ipython",
    "version": 3
   },
   "file_extension": ".py",
   "mimetype": "text/x-python",
   "name": "python",
   "nbconvert_exporter": "python",
   "pygments_lexer": "ipython3",
   "version": "3.11.3"
  }
 },
 "nbformat": 4,
 "nbformat_minor": 5
}
