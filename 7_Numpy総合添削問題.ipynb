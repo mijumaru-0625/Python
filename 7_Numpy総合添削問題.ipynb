{
 "cells": [
  {
   "cell_type": "code",
   "execution_count": 15,
   "id": "2ca61d33-0ac9-42ab-a4c7-b977a053856e",
   "metadata": {},
   "outputs": [
    {
     "name": "stdout",
     "output_type": "stream",
     "text": [
      "[[4 5 0]\n",
      " [3 3 3]\n",
      " [1 3 5]]\n",
      "\n",
      "[[4 5 0]\n",
      " [3 3 3]\n",
      " [0 5 5]]\n",
      "\n",
      "[[ 0  0  0]\n",
      " [ 0  0  0]\n",
      " [ 1 -2  0]]\n",
      "\n",
      "[[0 0 0]\n",
      " [0 0 0]\n",
      " [1 2 0]]\n"
     ]
    }
   ],
   "source": [
    "# p.215 リスト 7.56\n",
    "\n",
    "import numpy as np\n",
    "\n",
    "# 乱数を初期化\n",
    "np.random.seed(0)\n",
    "\n",
    "def make_image(m, n):\n",
    "    \"\"\" 縦の大きさ、横の大きさを渡されたときに、乱数で指定の大きさの画像を生成する関数\n",
    "\n",
    "    m\n",
    "        横、列の大きさ\n",
    "    n\n",
    "        縦、行の大きさ\n",
    "    \"\"\"\n",
    "    # n x m 行列の各成分を 0 ～ 5 の値でランダムに満たす\n",
    "    image = np.random.randint(0, 6, (n, m))\n",
    "    return image\n",
    "\n",
    "def change_little(matrix):\n",
    "    \"\"\" 渡された行列の一部を変更する関数 \"\"\"\n",
    "    # 与えられた行列の形を取得し、shape に代入\n",
    "    shape = matrix.shape\n",
    "\n",
    "    # 行列の各成分について、変更するかしないかをランダムに決めた上で\n",
    "    # 変更する場合は 0 ～ 5 のいずれかの整数にランダムに入れ替え\n",
    "    \"\"\"\n",
    "    a = np.random.randint(0, 2, shape)\n",
    "    b = make_image(*shape)\n",
    "    c = a * b\n",
    "    print(a)\n",
    "    print(b)\n",
    "    print(c)\n",
    "    print()\n",
    "\n",
    "    return matrix - matrix * a + c\n",
    "    \"\"\"\n",
    "    for i in range(shape[0]):\n",
    "        for j in range(shape[1]):\n",
    "            if np.random.randint(0, 2) == 1:\n",
    "                matrix[i][j] = np.random.randint(0, 6)\n",
    "\n",
    "    return matrix\n",
    "\n",
    "# ランダムに画像を作成します\n",
    "image1 = make_image(3, 3)\n",
    "print(image1)\n",
    "print()\n",
    "\n",
    "# ランダムに変更を適用\n",
    "image2 = change_little(np.copy(image1))\n",
    "print(image2)\n",
    "print()\n",
    "\n",
    "# image1 と image2 の差分を計算し、image3 に代入\n",
    "image3 = image1 - image2\n",
    "print(image3)\n",
    "print()\n",
    "\n",
    "# image3 の各成分が絶対値である行列を求め image3 に代入\n",
    "image3 = np.abs(image3)\n",
    "print(image3)"
   ]
  },
  {
   "cell_type": "code",
   "execution_count": null,
   "id": "e7305f16-5d5c-4fce-bb46-cd375d3ea450",
   "metadata": {},
   "outputs": [],
   "source": []
  }
 ],
 "metadata": {
  "kernelspec": {
   "display_name": "Python 3 (ipykernel)",
   "language": "python",
   "name": "python3"
  },
  "language_info": {
   "codemirror_mode": {
    "name": "ipython",
    "version": 3
   },
   "file_extension": ".py",
   "mimetype": "text/x-python",
   "name": "python",
   "nbconvert_exporter": "python",
   "pygments_lexer": "ipython3",
   "version": "3.11.3"
  }
 },
 "nbformat": 4,
 "nbformat_minor": 5
}
