{
 "cells": [
  {
   "cell_type": "code",
   "execution_count": 1,
   "id": "556090e9-5ebc-45d8-9989-966eb2fa5c13",
   "metadata": {},
   "outputs": [
    {
     "name": "stdout",
     "output_type": "stream",
     "text": [
      "Seriesデータ\n",
      "apple         10\n",
      "orange         5\n",
      "banana         8\n",
      "strawberry    12\n",
      "kiwifruit      3\n",
      "dtype: int64\n",
      "\n",
      "\n",
      "DataFrameデータ\n",
      "        fruit  year  time\n",
      "0       apple  2001     1\n",
      "1      orange  2002     4\n",
      "2      banana  2001     5\n",
      "3  strawberry  2008     6\n",
      "4   kiwifruit  2006     3\n"
     ]
    }
   ],
   "source": [
    "# p.222 リスト 8.3\n",
    "\n",
    "# pandas を pd として import します\n",
    "import pandas as pd\n",
    "\n",
    "# Series 用のラベル作成（インデックス）\n",
    "index = [\"apple\", \"orange\", \"banana\", \"strawberry\", \"kiwifruit\"]\n",
    "\n",
    "# Series 用のデータ値の代入\n",
    "data = [10, 5, 8, 12, 3]\n",
    "\n",
    "# Series 作成\n",
    "series = pd.Series(data, index=index)\n",
    "\n",
    "# 辞書型を用いて DataFrame 用のデータを作成\n",
    "data = {\"fruit\": [\"apple\", \"orange\", \"banana\", \"strawberry\", \"kiwifruit\"],\n",
    "        \"year\":  [2001,    2002,     2001,     2008,         2006],\n",
    "        \"time\":  [1,       4,        5,        6,            3]}\n",
    "\n",
    "# DataFrame 作成\n",
    "df = pd.DataFrame(data)\n",
    "\n",
    "print(\"Seriesデータ\")\n",
    "print(series)\n",
    "print(\"\\n\")\n",
    "print(\"DataFrameデータ\")\n",
    "print(df) # なぜか列の順番が違う\n"
   ]
  },
  {
   "cell_type": "code",
   "execution_count": 2,
   "id": "95fdcd3c-4008-4e77-b904-2cb4d2059747",
   "metadata": {},
   "outputs": [
    {
     "name": "stdout",
     "output_type": "stream",
     "text": [
      "apple         10\n",
      "orange         5\n",
      "banana         8\n",
      "strawberry    12\n",
      "kiwifruit      3\n",
      "dtype: int64\n"
     ]
    }
   ],
   "source": [
    "# 8.2 Series\n",
    "# p.225 リスト 8.6\n",
    "\n",
    "# pandas を pd として import します\n",
    "import pandas as pd\n",
    "\n",
    "index = [\"apple\", \"orange\", \"banana\", \"strawberry\", \"kiwifruit\"]\n",
    "data = [10, 5, 8, 12, 3]\n",
    "\n",
    "# index と data を含む Series を作成し series1 に代入\n",
    "series1 = pd.Series(data, index=index)\n",
    "print(series1)"
   ]
  },
  {
   "cell_type": "code",
   "execution_count": 3,
   "id": "d181fe83-1a0d-46e9-ae8b-a82a035453a5",
   "metadata": {},
   "outputs": [
    {
     "name": "stdout",
     "output_type": "stream",
     "text": [
      "banana    3\n",
      "orange    4\n",
      "dtype: int64\n"
     ]
    }
   ],
   "source": [
    "# 8.2.2 参照\n",
    "\n",
    "fruits = {\"banana\": 3, \"orange\": 4, \"grape\": 1, \"peach\": 5}\n",
    "series = pd.Series(fruits)\n",
    "print(series[0:2])"
   ]
  },
  {
   "cell_type": "code",
   "execution_count": 4,
   "id": "6c50625c-7dd5-4c00-b0de-cdf140839663",
   "metadata": {},
   "outputs": [
    {
     "name": "stdout",
     "output_type": "stream",
     "text": [
      "orange    4\n",
      "peach     5\n",
      "dtype: int64\n"
     ]
    }
   ],
   "source": [
    "print(series[[\"orange\", \"peach\"]])"
   ]
  },
  {
   "cell_type": "code",
   "execution_count": 11,
   "id": "2654b532-c1ae-4c00-b4e7-088a1aa96f7e",
   "metadata": {},
   "outputs": [
    {
     "name": "stdout",
     "output_type": "stream",
     "text": [
      "oraneg         5\n",
      "banana         8\n",
      "strawberry    12\n",
      "dtype: int64\n",
      "\n",
      "apple        10\n",
      "banana        8\n",
      "kiwifruit     3\n",
      "dtype: int64\n"
     ]
    }
   ],
   "source": [
    "# 問題 リスト 8.10\n",
    "\n",
    "index = [\"apple\", \"oraneg\", \"banana\", \"strawberry\", \"kiwifruit\"]\n",
    "data = [10, 5, 8, 12, 3]\n",
    "series = pd.Series(data, index=index)\n",
    "\n",
    "# インデックス参照を用いて series の 2 つ目から 4 つ目までの 3 つの要素を取り出して item1 に代入\n",
    "item1 = series[1:4]\n",
    "print(item1)\n",
    "print()\n",
    "\n",
    "# インデックス値を指定する方法を用いて \"apple\", \"banana\", \"kiwifruit\" のインデックスを持つ要素を取り出して item2 に代入\n",
    "item2 = series[[\"apple\", \"banana\", \"kiwifruit\"]]\n",
    "print(item2)"
   ]
  },
  {
   "cell_type": "code",
   "execution_count": 13,
   "id": "bcfdc820-3c71-447d-b0f2-e7c479c17bae",
   "metadata": {},
   "outputs": [
    {
     "name": "stdout",
     "output_type": "stream",
     "text": [
      "[10  5  8 12  3]\n",
      "Index(['apple', 'orange', 'banana', 'strawberry', 'kiwifruit'], dtype='object')\n"
     ]
    }
   ],
   "source": [
    "# 8.2.3 データ、インデックスを取り出す\n",
    "# 問題 リスト 8.12\n",
    "\n",
    "index = [\"apple\", \"orange\", \"banana\", \"strawberry\", \"kiwifruit\"]\n",
    "data = [10, 5, 8, 12, 3]\n",
    "series = pd.Series(data, index=index)\n",
    "\n",
    "# series_values に series のデータを代入\n",
    "series_values = series.values\n",
    "\n",
    "# series_index に series のインデックスを代入\n",
    "series_index = series.index\n",
    "\n",
    "print(series_values)\n",
    "print(series_index)"
   ]
  },
  {
   "cell_type": "code",
   "execution_count": 24,
   "id": "b9e24551-de86-422b-b3c0-3eb559be9d17",
   "metadata": {},
   "outputs": [
    {
     "name": "stdout",
     "output_type": "stream",
     "text": [
      "apple         10\n",
      "orange         5\n",
      "banana         8\n",
      "strawberry    12\n",
      "kiwifruit      3\n",
      "dtype: int64\n",
      "\n",
      "pineapple    12\n",
      "dtype: int64\n",
      "\n",
      "apple         10\n",
      "orange         5\n",
      "banana         8\n",
      "strawberry    12\n",
      "kiwifruit      3\n",
      "pineapple     12\n",
      "dtype: int64\n"
     ]
    }
   ],
   "source": [
    "# 8.2.4 要素を追加する\n",
    "# 問題 リスト 8.15\n",
    "\n",
    "index = [\"apple\", \"orange\", \"banana\", \"strawberry\", \"kiwifruit\"]\n",
    "data = [10, 5, 8, 12, 3]\n",
    "series = pd.Series(data, index=index)\n",
    "print(series)\n",
    "print()\n",
    "\n",
    "# series にインデックスが \"pineapple\"、データが 12 の要素を追加\n",
    "b = pd.Series([12], index=[\"pineapple\"])\n",
    "print(b)\n",
    "print()\n",
    "\n",
    "#series = series.append(b) # append がなくなった\n",
    "series[\"pineapple\"] = 12 # 追加は辞書のようにできる\n",
    "\n",
    "print(series)"
   ]
  },
  {
   "cell_type": "code",
   "execution_count": null,
   "id": "595dba9e-4f53-4816-b466-79ebd123f25f",
   "metadata": {},
   "outputs": [],
   "source": []
  }
 ],
 "metadata": {
  "kernelspec": {
   "display_name": "Python 3 (ipykernel)",
   "language": "python",
   "name": "python3"
  },
  "language_info": {
   "codemirror_mode": {
    "name": "ipython",
    "version": 3
   },
   "file_extension": ".py",
   "mimetype": "text/x-python",
   "name": "python",
   "nbconvert_exporter": "python",
   "pygments_lexer": "ipython3",
   "version": "3.11.3"
  }
 },
 "nbformat": 4,
 "nbformat_minor": 5
}
