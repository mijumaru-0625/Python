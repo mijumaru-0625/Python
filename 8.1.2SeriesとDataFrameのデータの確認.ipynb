{
 "cells": [
  {
   "cell_type": "code",
   "execution_count": 1,
   "id": "556090e9-5ebc-45d8-9989-966eb2fa5c13",
   "metadata": {},
   "outputs": [
    {
     "name": "stdout",
     "output_type": "stream",
     "text": [
      "Seriesデータ\n",
      "apple         10\n",
      "orange         5\n",
      "banana         8\n",
      "strawberry    12\n",
      "kiwifruit      3\n",
      "dtype: int64\n",
      "\n",
      "\n",
      "DataFrameデータ\n",
      "        fruit  year  time\n",
      "0       apple  2001     1\n",
      "1      orange  2002     4\n",
      "2      banana  2001     5\n",
      "3  strawberry  2008     6\n",
      "4   kiwifruit  2006     3\n"
     ]
    }
   ],
   "source": [
    "# p.222 リスト 8.3\n",
    "\n",
    "# pandas を pd として import します\n",
    "import pandas as pd\n",
    "\n",
    "# Series 用のラベル作成（インデックス）\n",
    "index = [\"apple\", \"orange\", \"banana\", \"strawberry\", \"kiwifruit\"]\n",
    "\n",
    "# Series 用のデータ値の代入\n",
    "data = [10, 5, 8, 12, 3]\n",
    "\n",
    "# Series 作成\n",
    "series = pd.Series(data, index=index)\n",
    "\n",
    "# 辞書型を用いて DataFrame 用のデータを作成\n",
    "data = {\"fruit\": [\"apple\", \"orange\", \"banana\", \"strawberry\", \"kiwifruit\"],\n",
    "        \"year\":  [2001,    2002,     2001,     2008,         2006],\n",
    "        \"time\":  [1,       4,        5,        6,            3]}\n",
    "\n",
    "# DataFrame 作成\n",
    "df = pd.DataFrame(data)\n",
    "\n",
    "print(\"Seriesデータ\")\n",
    "print(series)\n",
    "print(\"\\n\")\n",
    "print(\"DataFrameデータ\")\n",
    "print(df) # なぜか列の順番がテキストとは違う\n"
   ]
  },
  {
   "cell_type": "code",
   "execution_count": 2,
   "id": "95fdcd3c-4008-4e77-b904-2cb4d2059747",
   "metadata": {},
   "outputs": [
    {
     "name": "stdout",
     "output_type": "stream",
     "text": [
      "apple         10\n",
      "orange         5\n",
      "banana         8\n",
      "strawberry    12\n",
      "kiwifruit      3\n",
      "dtype: int64\n"
     ]
    }
   ],
   "source": [
    "# 8.2 Series\n",
    "# p.225 リスト 8.6\n",
    "\n",
    "# pandas を pd として import します\n",
    "import pandas as pd\n",
    "\n",
    "index = [\"apple\", \"orange\", \"banana\", \"strawberry\", \"kiwifruit\"]\n",
    "data = [10, 5, 8, 12, 3]\n",
    "\n",
    "# index と data を含む Series を作成し series1 に代入\n",
    "series1 = pd.Series(data, index=index)\n",
    "print(series1)"
   ]
  },
  {
   "cell_type": "code",
   "execution_count": 3,
   "id": "d181fe83-1a0d-46e9-ae8b-a82a035453a5",
   "metadata": {},
   "outputs": [
    {
     "name": "stdout",
     "output_type": "stream",
     "text": [
      "banana    3\n",
      "orange    4\n",
      "dtype: int64\n"
     ]
    }
   ],
   "source": [
    "# 8.2.2 参照\n",
    "\n",
    "fruits = {\"banana\": 3, \"orange\": 4, \"grape\": 1, \"peach\": 5}\n",
    "series = pd.Series(fruits)\n",
    "print(series[0:2])"
   ]
  },
  {
   "cell_type": "code",
   "execution_count": 4,
   "id": "6c50625c-7dd5-4c00-b0de-cdf140839663",
   "metadata": {},
   "outputs": [
    {
     "name": "stdout",
     "output_type": "stream",
     "text": [
      "orange    4\n",
      "peach     5\n",
      "dtype: int64\n"
     ]
    }
   ],
   "source": [
    "print(series[[\"orange\", \"peach\"]])"
   ]
  },
  {
   "cell_type": "code",
   "execution_count": 5,
   "id": "2654b532-c1ae-4c00-b4e7-088a1aa96f7e",
   "metadata": {},
   "outputs": [
    {
     "name": "stdout",
     "output_type": "stream",
     "text": [
      "oraneg         5\n",
      "banana         8\n",
      "strawberry    12\n",
      "dtype: int64\n",
      "\n",
      "apple        10\n",
      "banana        8\n",
      "kiwifruit     3\n",
      "dtype: int64\n"
     ]
    }
   ],
   "source": [
    "# 問題 リスト 8.10\n",
    "\n",
    "index = [\"apple\", \"oraneg\", \"banana\", \"strawberry\", \"kiwifruit\"]\n",
    "data = [10, 5, 8, 12, 3]\n",
    "series = pd.Series(data, index=index)\n",
    "\n",
    "# インデックス参照を用いて series の 2 つ目から 4 つ目までの 3 つの要素を取り出して item1 に代入\n",
    "item1 = series[1:4]\n",
    "print(item1)\n",
    "print()\n",
    "\n",
    "# インデックス値を指定する方法を用いて \"apple\", \"banana\", \"kiwifruit\" のインデックスを持つ要素を取り出して item2 に代入\n",
    "item2 = series[[\"apple\", \"banana\", \"kiwifruit\"]]\n",
    "print(item2)"
   ]
  },
  {
   "cell_type": "code",
   "execution_count": 6,
   "id": "bcfdc820-3c71-447d-b0f2-e7c479c17bae",
   "metadata": {},
   "outputs": [
    {
     "name": "stdout",
     "output_type": "stream",
     "text": [
      "[10  5  8 12  3]\n",
      "Index(['apple', 'orange', 'banana', 'strawberry', 'kiwifruit'], dtype='object')\n"
     ]
    }
   ],
   "source": [
    "# 8.2.3 データ、インデックスを取り出す\n",
    "# 問題 リスト 8.12\n",
    "\n",
    "index = [\"apple\", \"orange\", \"banana\", \"strawberry\", \"kiwifruit\"]\n",
    "data = [10, 5, 8, 12, 3]\n",
    "series = pd.Series(data, index=index)\n",
    "\n",
    "# series_values に series のデータを代入\n",
    "series_values = series.values\n",
    "\n",
    "# series_index に series のインデックスを代入\n",
    "series_index = series.index\n",
    "\n",
    "print(series_values)\n",
    "print(series_index)"
   ]
  },
  {
   "cell_type": "code",
   "execution_count": 7,
   "id": "b9e24551-de86-422b-b3c0-3eb559be9d17",
   "metadata": {},
   "outputs": [
    {
     "name": "stdout",
     "output_type": "stream",
     "text": [
      "apple         10\n",
      "orange         5\n",
      "banana         8\n",
      "strawberry    12\n",
      "kiwifruit      3\n",
      "dtype: int64\n",
      "\n",
      "pineapple    12\n",
      "dtype: int64\n",
      "\n",
      "pd.concat\n",
      "apple         10\n",
      "orange         5\n",
      "banana         8\n",
      "strawberry    12\n",
      "kiwifruit      3\n",
      "pineapple     12\n",
      "dtype: int64\n",
      "\n",
      "apple         10\n",
      "orange         5\n",
      "banana         8\n",
      "strawberry    12\n",
      "kiwifruit      3\n",
      "pineapple     12\n",
      "dtype: int64\n"
     ]
    }
   ],
   "source": [
    "# 8.2.4 要素を追加する\n",
    "# 問題 リスト 8.15\n",
    "\n",
    "index = [\"apple\", \"orange\", \"banana\", \"strawberry\", \"kiwifruit\"]\n",
    "data = [10, 5, 8, 12, 3]\n",
    "series = pd.Series(data, index=index)\n",
    "print(series)\n",
    "print()\n",
    "\n",
    "# series にインデックスが \"pineapple\"、データが 12 の要素を追加\n",
    "b = pd.Series([12], index=[\"pineapple\"])\n",
    "print(b)\n",
    "print()\n",
    "\n",
    "#series = series.append(b) # append がなくなった\n",
    "# よって、別のオブジェクトになるが concat を利用\n",
    "print(\"pd.concat\")\n",
    "print(pd.concat([series, b]))\n",
    "print()\n",
    "\n",
    "# あるいは\n",
    "series[\"pineapple\"] = 12 # 追加は辞書のようにできる\n",
    "\n",
    "print(series)"
   ]
  },
  {
   "cell_type": "code",
   "execution_count": 8,
   "id": "595dba9e-4f53-4816-b466-79ebd123f25f",
   "metadata": {},
   "outputs": [
    {
     "name": "stdout",
     "output_type": "stream",
     "text": [
      "apple         10\n",
      "orange         5\n",
      "banana         8\n",
      "strawberry    12\n",
      "kiwifruit      3\n",
      "dtype: int64\n",
      "\n",
      "apple        10\n",
      "orange        5\n",
      "banana        8\n",
      "kiwifruit     3\n",
      "dtype: int64\n",
      "\n"
     ]
    }
   ],
   "source": [
    "# 8.2.5 要素を削除する\n",
    "# 問題 リスト 8.17\n",
    "\n",
    "index = [\"apple\", \"orange\", \"banana\", \"strawberry\", \"kiwifruit\"]\n",
    "data = [10, 5, 8, 12, 3]\n",
    "\n",
    "# index と data を含む Series を作成し series に代入\n",
    "series = pd.Series(data, index=index)\n",
    "print(series)\n",
    "print()\n",
    "\n",
    "# インデックスが strawberry の要素を削除して series に代入\n",
    "series = series.drop(\"strawberry\")\n",
    "print(series)\n",
    "print()"
   ]
  },
  {
   "cell_type": "code",
   "execution_count": 9,
   "id": "aeb689a4-e431-44ae-acc6-010d1c876902",
   "metadata": {},
   "outputs": [
    {
     "name": "stdout",
     "output_type": "stream",
     "text": [
      "orange    5\n",
      "banana    8\n",
      "dtype: int64\n"
     ]
    }
   ],
   "source": [
    "# 8.2.6 フィルタリング\n",
    "# 問題 リスト 8.21\n",
    "\n",
    "index = [\"apple\", \"orange\", \"banana\", \"strawberry\", \"kiwifruit\"]\n",
    "data = [10, 5, 8, 12, 3]\n",
    "series = pd.Series(data, index=index)\n",
    "\n",
    "# series 内の要素のうち、値が 5 以上 10 未満の要素を含む Series を作り、Series に再代入\n",
    "series = series[series >= 5][series < 10]\n",
    "\n",
    "print(series)"
   ]
  },
  {
   "cell_type": "code",
   "execution_count": 12,
   "id": "dfbb44c6-b22a-4fad-8390-aadcb7ba29df",
   "metadata": {},
   "outputs": [
    {
     "name": "stdout",
     "output_type": "stream",
     "text": [
      "apple         10\n",
      "orange         5\n",
      "banana         8\n",
      "strawberry    12\n",
      "kiwifruit      3\n",
      "dtype: int64\n",
      "\n",
      "apple         10\n",
      "banana         8\n",
      "kiwifruit      3\n",
      "orange         5\n",
      "strawberry    12\n",
      "dtype: int64\n",
      "\n",
      "kiwifruit      3\n",
      "orange         5\n",
      "banana         8\n",
      "apple         10\n",
      "strawberry    12\n",
      "dtype: int64\n"
     ]
    }
   ],
   "source": [
    "# p.235 8.2.7 ソート\n",
    "# リスト 8.23\n",
    "\n",
    "index = [\"apple\", \"orange\", \"banana\", \"strawberry\", \"kiwifruit\"]\n",
    "data = [10, 5, 8, 12, 3]\n",
    "series = pd.Series(data, index=index)\n",
    "\n",
    "print(series)\n",
    "print()\n",
    "\n",
    "# series をインデックスについてアルファベット順にソートした Series を item1 に代入\n",
    "item1 = series.sort_index()\n",
    "print(item1)\n",
    "print()\n",
    "\n",
    "# series をデータについて値の大きさを順にソートした Series を items に代入\n",
    "item2 = series.sort_values()\n",
    "print(item2)"
   ]
  },
  {
   "cell_type": "code",
   "execution_count": 13,
   "id": "ab4dcbf4-83aa-4f01-9f91-b9ad0bf7990b",
   "metadata": {},
   "outputs": [
    {
     "name": "stdout",
     "output_type": "stream",
     "text": [
      "   apple  orange  banana  starwberry  kiwifruit\n",
      "0     10       5       8          12          3\n",
      "1     30      25      12          10          8\n"
     ]
    }
   ],
   "source": [
    "# p.237 8.3.1 DataFrame の生成 リスト 8.26\n",
    "\n",
    "index = [\"apple\", \"orange\", \"banana\", \"starwberry\", \"kiwifruit\"]\n",
    "data1 = [10, 5, 8, 12, 3]\n",
    "data2 = [30, 25, 12, 10, 8]\n",
    "series1 = pd.Series(data1, index=index)\n",
    "series2 = pd.Series(data2, index=index)\n",
    "\n",
    "# series1, series2 から DataFrame を生成して df に代入\n",
    "df = pd.DataFrame([series1, series2])\n",
    "\n",
    "print(df)"
   ]
  },
  {
   "cell_type": "code",
   "execution_count": 46,
   "id": "cf6fa43a-caeb-403a-9e30-5e7aa877c904",
   "metadata": {},
   "outputs": [
    {
     "name": "stdout",
     "output_type": "stream",
     "text": [
      "   apple  orange  banana  starwberry  kiwifruit\n",
      "0     10       5       8          12          3\n",
      "1     30      25      12          10          8\n",
      "\n",
      "   apple  orange  banana  starwberry  kiwifruit\n",
      "1     10       5       8          12          3\n",
      "2     30      25      12          10          8\n"
     ]
    }
   ],
   "source": [
    "# p.239 8.3.2 インデックスとカラムを設定する\n",
    "\n",
    "index = [\"apple\", \"orange\", \"banana\", \"starwberry\", \"kiwifruit\"]\n",
    "data1 = [10, 5, 8, 12, 3]\n",
    "data2 = [30, 25, 12, 10, 8]\n",
    "series1 = pd.Series(data1, index=index)\n",
    "series2 = pd.Series(data2, index=index)\n",
    "df = pd.DataFrame([series1, series2])\n",
    "print(df)\n",
    "print()\n",
    "\n",
    "# df のインデックスが 1 から始まるように設定\n",
    "df.index = [1, 2]\n",
    "\n",
    "print(df)"
   ]
  },
  {
   "cell_type": "code",
   "execution_count": 47,
   "id": "7a1361bb-b52f-4a08-a7e3-cf4d0de5a7ab",
   "metadata": {},
   "outputs": [
    {
     "name": "stdout",
     "output_type": "stream",
     "text": [
      "df\n",
      "   apple  orange  banana  starwberry  kiwifruit\n",
      "0     10       5       8          12          3\n",
      "1     30      25      12          10          8\n",
      "\n",
      "df3\n",
      "   apple  orange  banana  starwberry  kiwifruit  pineapple\n",
      "0     30      12      10           8         25          3\n",
      "\n",
      "df = df + df3  pd.concat を利用\n",
      "df\n",
      "   apple  orange  banana  starwberry  kiwifruit  pineapple\n",
      "0     10       5       8          12          3        NaN\n",
      "1     30      25      12          10          8        NaN\n",
      "2     30      12      10           8         25        3.0\n"
     ]
    }
   ],
   "source": [
    "# p.240 8.3.3 行を追加する リスト 8.31\n",
    "\n",
    "index = [\"apple\", \"orange\", \"banana\", \"starwberry\", \"kiwifruit\"]\n",
    "data1 = [10, 5, 8, 12, 3]\n",
    "data2 = [30, 25, 12, 10, 8]\n",
    "data3 = [30, 12, 10, 8, 25, 3]\n",
    "series1 = pd.Series(data1, index=index)\n",
    "series2 = pd.Series(data2, index=index)\n",
    "\n",
    "# df に series3 を追加し、df に再代入\n",
    "index.append(\"pineapple\")\n",
    "series3 = pd.Series(data3, index=index)\n",
    "df = pd.DataFrame([series1, series2])\n",
    "\n",
    "# append は使えなくなった。代わりに pd.concat を使う\n",
    "print(\"df\")\n",
    "print(df)\n",
    "print()\n",
    "\n",
    "df3 = pd.DataFrame([series3])\n",
    "print(\"df3\")\n",
    "print(df3)\n",
    "print()\n",
    "\n",
    "print(\"df = df + df3  pd.concat を利用\")\n",
    "df = pd.concat([df, df3])\n",
    "df.index = [0, 1, 2]\n",
    "print(\"df\")\n",
    "print(df)\n"
   ]
  },
  {
   "cell_type": "code",
   "execution_count": 51,
   "id": "1bca0690-cb4e-4e8a-a3b8-b41d0ba2375b",
   "metadata": {},
   "outputs": [
    {
     "name": "stdout",
     "output_type": "stream",
     "text": [
      "   apple  orange  banana  starwberry  kiwifruit\n",
      "0     10       5       8          12          3\n",
      "1     30      25      12          10          8\n",
      "\n",
      "   apple  orange  banana  starwberry  kiwifruit  mango\n",
      "0     10       5       8          12          3     15\n",
      "1     30      25      12          10          8      7\n"
     ]
    }
   ],
   "source": [
    "# p.242 8.3.4 列を追加する\n",
    "# リスト 8.34\n",
    "\n",
    "index = [\"apple\", \"orange\", \"banana\", \"starwberry\", \"kiwifruit\"]\n",
    "data1 = [10, 5, 8, 12, 3]\n",
    "data2 = [30, 25, 12, 10, 8]\n",
    "series1 = pd.Series(data1, index=index)\n",
    "series2 = pd.Series(data2, index=index)\n",
    "\n",
    "new_column = pd.Series([15, 7], index=[0, 1])\n",
    "\n",
    "# series1, series2 から DataFrame を生成\n",
    "df = pd.DataFrame([series1, series2])\n",
    "print(df)\n",
    "print()\n",
    "\n",
    "# df の新しい列 \"mango\" に new_column のデータを追加\n",
    "df[\"mango\"] = new_column\n",
    "print(df)"
   ]
  },
  {
   "cell_type": "code",
   "execution_count": null,
   "id": "adc232c2-ed4f-492b-817a-fa142876da89",
   "metadata": {},
   "outputs": [],
   "source": []
  }
 ],
 "metadata": {
  "kernelspec": {
   "display_name": "Python 3 (ipykernel)",
   "language": "python",
   "name": "python3"
  },
  "language_info": {
   "codemirror_mode": {
    "name": "ipython",
    "version": 3
   },
   "file_extension": ".py",
   "mimetype": "text/x-python",
   "name": "python",
   "nbconvert_exporter": "python",
   "pygments_lexer": "ipython3",
   "version": "3.11.3"
  }
 },
 "nbformat": 4,
 "nbformat_minor": 5
}
