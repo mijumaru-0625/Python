{
 "cells": [
  {
   "cell_type": "code",
   "execution_count": 5,
   "id": "556090e9-5ebc-45d8-9989-966eb2fa5c13",
   "metadata": {},
   "outputs": [
    {
     "name": "stdout",
     "output_type": "stream",
     "text": [
      "Seriesデータ\n",
      "apple         10\n",
      "orange         5\n",
      "banana         8\n",
      "strawberry    12\n",
      "kiwifruit      3\n",
      "dtype: int64\n",
      "\n",
      "\n",
      "DataFrameデータ\n",
      "        fruit  year  time\n",
      "0       apple  2001     1\n",
      "1      orange  2002     4\n",
      "2      banana  2001     5\n",
      "3  strawberry  2008     6\n",
      "4   kiwifruit  2006     3\n"
     ]
    }
   ],
   "source": [
    "# p.222 リスト 8.3\n",
    "\n",
    "# pandas を pd として import します\n",
    "import pandas as pd\n",
    "\n",
    "# Series 用のラベル作成（インデックス）\n",
    "index = [\"apple\", \"orange\", \"banana\", \"strawberry\", \"kiwifruit\"]\n",
    "\n",
    "# Series 用のデータ値の代入\n",
    "data = [10, 5, 8, 12, 3]\n",
    "\n",
    "# Series 作成\n",
    "series = pd.Series(data, index=index)\n",
    "\n",
    "# 辞書型を用いて DataFrame 用のデータを作成\n",
    "data = {\"fruit\": [\"apple\", \"orange\", \"banana\", \"strawberry\", \"kiwifruit\"],\n",
    "        \"year\":  [2001,    2002,     2001,     2008,         2006],\n",
    "        \"time\":  [1,       4,        5,        6,            3]}\n",
    "\n",
    "# DataFrame 作成\n",
    "df = pd.DataFrame(data)\n",
    "\n",
    "print(\"Seriesデータ\")\n",
    "print(series)\n",
    "print(\"\\n\")\n",
    "print(\"DataFrameデータ\")\n",
    "print(df) # なぜか列の順番が違う\n"
   ]
  },
  {
   "cell_type": "code",
   "execution_count": 17,
   "id": "95fdcd3c-4008-4e77-b904-2cb4d2059747",
   "metadata": {},
   "outputs": [
    {
     "name": "stdout",
     "output_type": "stream",
     "text": [
      "apple         10\n",
      "orange         5\n",
      "banana         8\n",
      "strawberry    12\n",
      "kiwifruit      3\n",
      "dtype: int64\n"
     ]
    }
   ],
   "source": [
    "# 8.2 Series\n",
    "# p.225 リスト 8.6\n",
    "\n",
    "# pandas を pd として import します\n",
    "import pandas as pd\n",
    "\n",
    "index = [\"apple\", \"orange\", \"banana\", \"strawberry\", \"kiwifruit\"]\n",
    "data = [10, 5, 8, 12, 3]\n",
    "\n",
    "# index と data を含む Series を作成し series1 に代入\n",
    "series1 = pd.Series(data, index=index)\n",
    "print(series1)"
   ]
  },
  {
   "cell_type": "code",
   "execution_count": null,
   "id": "d181fe83-1a0d-46e9-ae8b-a82a035453a5",
   "metadata": {},
   "outputs": [],
   "source": []
  }
 ],
 "metadata": {
  "kernelspec": {
   "display_name": "Python 3 (ipykernel)",
   "language": "python",
   "name": "python3"
  },
  "language_info": {
   "codemirror_mode": {
    "name": "ipython",
    "version": 3
   },
   "file_extension": ".py",
   "mimetype": "text/x-python",
   "name": "python",
   "nbconvert_exporter": "python",
   "pygments_lexer": "ipython3",
   "version": "3.11.3"
  }
 },
 "nbformat": 4,
 "nbformat_minor": 5
}
