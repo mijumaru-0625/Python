{
 "cells": [
  {
   "cell_type": "code",
   "execution_count": 5,
   "id": "5e529a31-0246-47d1-ad02-9453f6e871f1",
   "metadata": {},
   "outputs": [
    {
     "name": "stdout",
     "output_type": "stream",
     "text": [
      "    apple  orange  banana  starwberry  kiwifruit\n",
      "1       6       8       6           3         10\n",
      "2       1       7      10           4         10\n",
      "3       4       9       9           9          1\n",
      "4       4       9      10           2          5\n",
      "5       8       2       5           4          8\n",
      "6      10       7       4           4          4\n",
      "7       4       8       1           4          3\n",
      "8       6       8       4           8          8\n",
      "9       3       9       6           1          3\n",
      "10      5       2       1           2          1\n",
      "\n",
      "   banana  kiwifruit\n",
      "2      10         10\n",
      "3       9          1\n",
      "4      10          5\n",
      "5       5          8\n"
     ]
    }
   ],
   "source": [
    "# p.245 8.3.6 名前により参照\n",
    "# リスト 8:38\n",
    "\n",
    "import numpy as np\n",
    "import pandas as pd\n",
    "\n",
    "np.random.seed(0)\n",
    "columns = [\"apple\", \"orange\", \"banana\", \"starwberry\", \"kiwifruit\"]\n",
    "\n",
    "# DataFrame を生成し、列を追加\n",
    "df = pd.DataFrame()\n",
    "\n",
    "for column in columns:\n",
    "    df[column] = np.random.choice(range(1, 11), 10)\n",
    "\n",
    "# range(開始行数, 終了行数 - 1)\n",
    "df.index = range(1, 11)\n",
    "\n",
    "print(df)\n",
    "print()\n",
    "\n",
    "# loc[] を使って df の 2 行目から 5 行目までの 4 行と、\"banana\"、\"kiwifruit\" の 2 列を含む DataFrame を df に代入\n",
    "df = df.loc[range(2, 6), [\"banana\", \"kiwifruit\"]]\n",
    "print(df)"
   ]
  },
  {
   "cell_type": "code",
   "execution_count": 11,
   "id": "06216fad-b18c-479f-b8d6-b8e3b0837c80",
   "metadata": {},
   "outputs": [
    {
     "name": "stdout",
     "output_type": "stream",
     "text": [
      "    apple  orange  banana  strawberry  kiwifruit\n",
      "1       6       8       6           3         10\n",
      "2       1       7      10           4         10\n",
      "3       4       9       9           9          1\n",
      "4       4       9      10           2          5\n",
      "5       8       2       5           4          8\n",
      "6      10       7       4           4          4\n",
      "7       4       8       1           4          3\n",
      "8       6       8       4           8          8\n",
      "9       3       9       6           1          3\n",
      "10      5       2       1           2          1\n",
      "\n",
      "   banana  kiwifruit\n",
      "2      10         10\n",
      "3       9          1\n",
      "4      10          5\n",
      "5       5          8\n"
     ]
    }
   ],
   "source": [
    "# p.248 8.3.7 番号による参照\n",
    "# リスト 8.42\n",
    "np.random.seed(0)\n",
    "\n",
    "columns = [\"apple\", \"orange\", \"banana\", \"strawberry\", \"kiwifruit\"]\n",
    "\n",
    "# DataFrame を生成し、列を追加\n",
    "df = pd.DataFrame()\n",
    "for column in columns:\n",
    "    df[column] = np.random.choice(range(1, 11), 10)\n",
    "\n",
    "df.index = range(1, 11)\n",
    "print(df)\n",
    "print()\n",
    "\n",
    "# iloc[] を使って df の 2 行目から 5 行目までの 4 行と、\"banana\", \"kiwifruit\" の 2 列を含む DataFrame を df に代入\n",
    "df = df.iloc[1:5, [2, 4]]\n",
    "print(df)"
   ]
  },
  {
   "cell_type": "code",
   "execution_count": 15,
   "id": "08b935e0-07a6-457a-afb5-6ecda9a4989e",
   "metadata": {},
   "outputs": [
    {
     "name": "stdout",
     "output_type": "stream",
     "text": [
      "   apple  orange  banana  strawberry  kiwifruit\n",
      "1      6       8       6           3         10\n",
      "3      4       9       9           9          1\n",
      "5      8       2       5           4          8\n",
      "7      4       8       1           4          3\n",
      "9      3       9       6           1          3\n",
      "\n",
      "   apple  orange  banana  kiwifruit\n",
      "1      6       8       6         10\n",
      "3      4       9       9          1\n",
      "5      8       2       5          8\n",
      "7      4       8       1          3\n",
      "9      3       9       6          3\n"
     ]
    }
   ],
   "source": [
    "# p.250 8.3.8 行または列の削除\n",
    "# リスト 8.45\n",
    "np.random.seed(0)\n",
    "columns = [\"apple\", \"orange\", \"banana\", \"strawberry\", \"kiwifruit\"]\n",
    "\n",
    "# DataFrame を生成し、列を追加\n",
    "df = pd.DataFrame()\n",
    "for column in columns:\n",
    "    df[column] = np.random.choice(range(1, 11), 10)\n",
    "\n",
    "df.index = range(1, 11)\n",
    "\n",
    "# drop() を用いて df の奇数のインデックスがついている行のみを残して df に代入\n",
    "df = df.drop(np.arange(2, 11, 2))\n",
    "print(df)\n",
    "print()\n",
    "\n",
    "df = df.drop(\"strawberry\", axis=1)\n",
    "print(df)\n"
   ]
  },
  {
   "cell_type": "code",
   "execution_count": null,
   "id": "c020dbb8-d514-439d-a1b8-76be60461242",
   "metadata": {},
   "outputs": [],
   "source": []
  }
 ],
 "metadata": {
  "kernelspec": {
   "display_name": "Python 3 (ipykernel)",
   "language": "python",
   "name": "python3"
  },
  "language_info": {
   "codemirror_mode": {
    "name": "ipython",
    "version": 3
   },
   "file_extension": ".py",
   "mimetype": "text/x-python",
   "name": "python",
   "nbconvert_exporter": "python",
   "pygments_lexer": "ipython3",
   "version": "3.11.3"
  }
 },
 "nbformat": 4,
 "nbformat_minor": 5
}
